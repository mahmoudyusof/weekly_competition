{
 "cells": [
  {
   "cell_type": "code",
   "execution_count": 1,
   "metadata": {
    "_cell_guid": "b1076dfc-b9ad-4769-8c92-a6c4dae69d19",
    "_uuid": "8f2839f25d086af736a60e9eeb907d3b93b6e0e5",
    "execution": {
     "iopub.execute_input": "2020-11-15T17:15:24.937652Z",
     "iopub.status.busy": "2020-11-15T17:15:24.936544Z",
     "iopub.status.idle": "2020-11-15T17:15:24.942405Z",
     "shell.execute_reply": "2020-11-15T17:15:24.941494Z"
    },
    "papermill": {
     "duration": 0.044868,
     "end_time": "2020-11-15T17:15:24.942596",
     "exception": false,
     "start_time": "2020-11-15T17:15:24.897728",
     "status": "completed"
    },
    "tags": []
   },
   "outputs": [
    {
     "name": "stdout",
     "output_type": "stream",
     "text": [
      "/kaggle/input/digit-recognizer/train.csv\n",
      "/kaggle/input/digit-recognizer/test.csv\n",
      "/kaggle/input/digit-recognizer/sample_submission.csv\n"
     ]
    }
   ],
   "source": [
    "# This Python 3 environment comes with many helpful analytics libraries installed\n",
    "# It is defined by the kaggle/python Docker image: https://github.com/kaggle/docker-python\n",
    "# For example, here's several helpful packages to load\n",
    "\n",
    "import numpy as np # linear algebra\n",
    "import pandas as pd # data processing, CSV file I/O (e.g. pd.read_csv)\n",
    "\n",
    "# Input data files are available in the read-only \"../input/\" directory\n",
    "# For example, running this (by clicking run or pressing Shift+Enter) will list all files under the input directory\n",
    "\n",
    "import os\n",
    "for dirname, _, filenames in os.walk('/kaggle/input'):\n",
    "    for filename in filenames:\n",
    "        print(os.path.join(dirname, filename))\n",
    "\n",
    "# You can write up to 20GB to the current directory (/kaggle/working/) that gets preserved as output when you create a version using \"Save & Run All\" \n",
    "# You can also write temporary files to /kaggle/temp/, but they won't be saved outside of the current session"
   ]
  },
  {
   "cell_type": "markdown",
   "metadata": {
    "papermill": {
     "duration": 0.028087,
     "end_time": "2020-11-15T17:15:25.000523",
     "exception": false,
     "start_time": "2020-11-15T17:15:24.972436",
     "status": "completed"
    },
    "tags": []
   },
   "source": [
    "# Introduction\n",
    "\n",
    "## Types of machine learning problems\n",
    "- Supervised learning\n",
    "    - Classification\n",
    "    - Regression\n",
    "    - ...\n",
    "- Unsupervised learning\n",
    "    - Clustering\n",
    "    - ...\n",
    "    \n",
    "### Supervised learning\n",
    "Supervised learning is a type of machine learning algorithms that is used when you have both the data and the target output and your goal is to learn the correlation between the data and the target output.  \n",
    "One example is Classification which is going to be this notebook's example. You will be given 28 * 28 pixel data for a hand written digit from 0 to 9 and the goal is to know only from the pixel data what digit the data represents. So you should classify the data, hence the name.\n",
    "\n",
    "### Unsupervised learning\n",
    "Unsupervised learning algorithms are used when you don't have the target output for the training data. \n",
    "One example for clustering is when you have data of your ecommerce website users and you want to figure out how may sigments of users exists and what are there interests. In this case you're going to use the user features to cluster similar users together, however, notice that you don't know the number of clusters nor the names of the clusters."
   ]
  },
  {
   "cell_type": "markdown",
   "metadata": {
    "papermill": {
     "duration": 0.028035,
     "end_time": "2020-11-15T17:15:25.057346",
     "exception": false,
     "start_time": "2020-11-15T17:15:25.029311",
     "status": "completed"
    },
    "tags": []
   },
   "source": [
    "## Classification\n",
    "This problem is a classification problem which means we need to categorize our data to descrete known categories, in todays problem the data is pixel data of 28 x 28 images of hand written digits and we need to classify each entry to one of 10 categories (0, 1, 2, etc...). The data is flattened to 784 feature for simplicity"
   ]
  },
  {
   "cell_type": "code",
   "execution_count": 2,
   "metadata": {
    "execution": {
     "iopub.execute_input": "2020-11-15T17:15:25.123946Z",
     "iopub.status.busy": "2020-11-15T17:15:25.123089Z",
     "iopub.status.idle": "2020-11-15T17:15:32.883946Z",
     "shell.execute_reply": "2020-11-15T17:15:32.883339Z"
    },
    "papermill": {
     "duration": 7.797729,
     "end_time": "2020-11-15T17:15:32.884078",
     "exception": false,
     "start_time": "2020-11-15T17:15:25.086349",
     "status": "completed"
    },
    "tags": []
   },
   "outputs": [
    {
     "data": {
      "text/html": [
       "<div>\n",
       "<style scoped>\n",
       "    .dataframe tbody tr th:only-of-type {\n",
       "        vertical-align: middle;\n",
       "    }\n",
       "\n",
       "    .dataframe tbody tr th {\n",
       "        vertical-align: top;\n",
       "    }\n",
       "\n",
       "    .dataframe thead th {\n",
       "        text-align: right;\n",
       "    }\n",
       "</style>\n",
       "<table border=\"1\" class=\"dataframe\">\n",
       "  <thead>\n",
       "    <tr style=\"text-align: right;\">\n",
       "      <th></th>\n",
       "      <th>label</th>\n",
       "      <th>pixel0</th>\n",
       "      <th>pixel1</th>\n",
       "      <th>pixel2</th>\n",
       "      <th>pixel3</th>\n",
       "      <th>pixel4</th>\n",
       "      <th>pixel5</th>\n",
       "      <th>pixel6</th>\n",
       "      <th>pixel7</th>\n",
       "      <th>pixel8</th>\n",
       "      <th>...</th>\n",
       "      <th>pixel774</th>\n",
       "      <th>pixel775</th>\n",
       "      <th>pixel776</th>\n",
       "      <th>pixel777</th>\n",
       "      <th>pixel778</th>\n",
       "      <th>pixel779</th>\n",
       "      <th>pixel780</th>\n",
       "      <th>pixel781</th>\n",
       "      <th>pixel782</th>\n",
       "      <th>pixel783</th>\n",
       "    </tr>\n",
       "  </thead>\n",
       "  <tbody>\n",
       "    <tr>\n",
       "      <th>0</th>\n",
       "      <td>1</td>\n",
       "      <td>0</td>\n",
       "      <td>0</td>\n",
       "      <td>0</td>\n",
       "      <td>0</td>\n",
       "      <td>0</td>\n",
       "      <td>0</td>\n",
       "      <td>0</td>\n",
       "      <td>0</td>\n",
       "      <td>0</td>\n",
       "      <td>...</td>\n",
       "      <td>0</td>\n",
       "      <td>0</td>\n",
       "      <td>0</td>\n",
       "      <td>0</td>\n",
       "      <td>0</td>\n",
       "      <td>0</td>\n",
       "      <td>0</td>\n",
       "      <td>0</td>\n",
       "      <td>0</td>\n",
       "      <td>0</td>\n",
       "    </tr>\n",
       "    <tr>\n",
       "      <th>1</th>\n",
       "      <td>0</td>\n",
       "      <td>0</td>\n",
       "      <td>0</td>\n",
       "      <td>0</td>\n",
       "      <td>0</td>\n",
       "      <td>0</td>\n",
       "      <td>0</td>\n",
       "      <td>0</td>\n",
       "      <td>0</td>\n",
       "      <td>0</td>\n",
       "      <td>...</td>\n",
       "      <td>0</td>\n",
       "      <td>0</td>\n",
       "      <td>0</td>\n",
       "      <td>0</td>\n",
       "      <td>0</td>\n",
       "      <td>0</td>\n",
       "      <td>0</td>\n",
       "      <td>0</td>\n",
       "      <td>0</td>\n",
       "      <td>0</td>\n",
       "    </tr>\n",
       "    <tr>\n",
       "      <th>2</th>\n",
       "      <td>1</td>\n",
       "      <td>0</td>\n",
       "      <td>0</td>\n",
       "      <td>0</td>\n",
       "      <td>0</td>\n",
       "      <td>0</td>\n",
       "      <td>0</td>\n",
       "      <td>0</td>\n",
       "      <td>0</td>\n",
       "      <td>0</td>\n",
       "      <td>...</td>\n",
       "      <td>0</td>\n",
       "      <td>0</td>\n",
       "      <td>0</td>\n",
       "      <td>0</td>\n",
       "      <td>0</td>\n",
       "      <td>0</td>\n",
       "      <td>0</td>\n",
       "      <td>0</td>\n",
       "      <td>0</td>\n",
       "      <td>0</td>\n",
       "    </tr>\n",
       "    <tr>\n",
       "      <th>3</th>\n",
       "      <td>4</td>\n",
       "      <td>0</td>\n",
       "      <td>0</td>\n",
       "      <td>0</td>\n",
       "      <td>0</td>\n",
       "      <td>0</td>\n",
       "      <td>0</td>\n",
       "      <td>0</td>\n",
       "      <td>0</td>\n",
       "      <td>0</td>\n",
       "      <td>...</td>\n",
       "      <td>0</td>\n",
       "      <td>0</td>\n",
       "      <td>0</td>\n",
       "      <td>0</td>\n",
       "      <td>0</td>\n",
       "      <td>0</td>\n",
       "      <td>0</td>\n",
       "      <td>0</td>\n",
       "      <td>0</td>\n",
       "      <td>0</td>\n",
       "    </tr>\n",
       "    <tr>\n",
       "      <th>4</th>\n",
       "      <td>0</td>\n",
       "      <td>0</td>\n",
       "      <td>0</td>\n",
       "      <td>0</td>\n",
       "      <td>0</td>\n",
       "      <td>0</td>\n",
       "      <td>0</td>\n",
       "      <td>0</td>\n",
       "      <td>0</td>\n",
       "      <td>0</td>\n",
       "      <td>...</td>\n",
       "      <td>0</td>\n",
       "      <td>0</td>\n",
       "      <td>0</td>\n",
       "      <td>0</td>\n",
       "      <td>0</td>\n",
       "      <td>0</td>\n",
       "      <td>0</td>\n",
       "      <td>0</td>\n",
       "      <td>0</td>\n",
       "      <td>0</td>\n",
       "    </tr>\n",
       "  </tbody>\n",
       "</table>\n",
       "<p>5 rows × 785 columns</p>\n",
       "</div>"
      ],
      "text/plain": [
       "   label  pixel0  pixel1  pixel2  pixel3  pixel4  pixel5  pixel6  pixel7  \\\n",
       "0      1       0       0       0       0       0       0       0       0   \n",
       "1      0       0       0       0       0       0       0       0       0   \n",
       "2      1       0       0       0       0       0       0       0       0   \n",
       "3      4       0       0       0       0       0       0       0       0   \n",
       "4      0       0       0       0       0       0       0       0       0   \n",
       "\n",
       "   pixel8  ...  pixel774  pixel775  pixel776  pixel777  pixel778  pixel779  \\\n",
       "0       0  ...         0         0         0         0         0         0   \n",
       "1       0  ...         0         0         0         0         0         0   \n",
       "2       0  ...         0         0         0         0         0         0   \n",
       "3       0  ...         0         0         0         0         0         0   \n",
       "4       0  ...         0         0         0         0         0         0   \n",
       "\n",
       "   pixel780  pixel781  pixel782  pixel783  \n",
       "0         0         0         0         0  \n",
       "1         0         0         0         0  \n",
       "2         0         0         0         0  \n",
       "3         0         0         0         0  \n",
       "4         0         0         0         0  \n",
       "\n",
       "[5 rows x 785 columns]"
      ]
     },
     "execution_count": 2,
     "metadata": {},
     "output_type": "execute_result"
    }
   ],
   "source": [
    "import numpy as np\n",
    "import pandas as pd\n",
    "import matplotlib.pyplot as plt\n",
    "from sklearn.linear_model import LogisticRegression\n",
    "from sklearn.svm import SVC, LinearSVC\n",
    "\n",
    "train_df = pd.read_csv(\"/kaggle/input/digit-recognizer/train.csv\")\n",
    "test_df = pd.read_csv(\"/kaggle/input/digit-recognizer/test.csv\")\n",
    "submission = pd.read_csv(\"/kaggle/input/digit-recognizer/sample_submission.csv\")\n",
    "\n",
    "train_df.head()"
   ]
  },
  {
   "cell_type": "code",
   "execution_count": 3,
   "metadata": {
    "execution": {
     "iopub.execute_input": "2020-11-15T17:15:33.102974Z",
     "iopub.status.busy": "2020-11-15T17:15:33.101926Z",
     "iopub.status.idle": "2020-11-15T17:15:35.797966Z",
     "shell.execute_reply": "2020-11-15T17:15:35.798847Z"
    },
    "papermill": {
     "duration": 2.885173,
     "end_time": "2020-11-15T17:15:35.799083",
     "exception": false,
     "start_time": "2020-11-15T17:15:32.913910",
     "status": "completed"
    },
    "tags": []
   },
   "outputs": [
    {
     "data": {
      "text/html": [
       "<div>\n",
       "<style scoped>\n",
       "    .dataframe tbody tr th:only-of-type {\n",
       "        vertical-align: middle;\n",
       "    }\n",
       "\n",
       "    .dataframe tbody tr th {\n",
       "        vertical-align: top;\n",
       "    }\n",
       "\n",
       "    .dataframe thead th {\n",
       "        text-align: right;\n",
       "    }\n",
       "</style>\n",
       "<table border=\"1\" class=\"dataframe\">\n",
       "  <thead>\n",
       "    <tr style=\"text-align: right;\">\n",
       "      <th></th>\n",
       "      <th>label</th>\n",
       "      <th>pixel0</th>\n",
       "      <th>pixel1</th>\n",
       "      <th>pixel2</th>\n",
       "      <th>pixel3</th>\n",
       "      <th>pixel4</th>\n",
       "      <th>pixel5</th>\n",
       "      <th>pixel6</th>\n",
       "      <th>pixel7</th>\n",
       "      <th>pixel8</th>\n",
       "      <th>...</th>\n",
       "      <th>pixel774</th>\n",
       "      <th>pixel775</th>\n",
       "      <th>pixel776</th>\n",
       "      <th>pixel777</th>\n",
       "      <th>pixel778</th>\n",
       "      <th>pixel779</th>\n",
       "      <th>pixel780</th>\n",
       "      <th>pixel781</th>\n",
       "      <th>pixel782</th>\n",
       "      <th>pixel783</th>\n",
       "    </tr>\n",
       "  </thead>\n",
       "  <tbody>\n",
       "    <tr>\n",
       "      <th>count</th>\n",
       "      <td>42000.000000</td>\n",
       "      <td>42000.0</td>\n",
       "      <td>42000.0</td>\n",
       "      <td>42000.0</td>\n",
       "      <td>42000.0</td>\n",
       "      <td>42000.0</td>\n",
       "      <td>42000.0</td>\n",
       "      <td>42000.0</td>\n",
       "      <td>42000.0</td>\n",
       "      <td>42000.0</td>\n",
       "      <td>...</td>\n",
       "      <td>42000.000000</td>\n",
       "      <td>42000.000000</td>\n",
       "      <td>42000.000000</td>\n",
       "      <td>42000.00000</td>\n",
       "      <td>42000.000000</td>\n",
       "      <td>42000.000000</td>\n",
       "      <td>42000.0</td>\n",
       "      <td>42000.0</td>\n",
       "      <td>42000.0</td>\n",
       "      <td>42000.0</td>\n",
       "    </tr>\n",
       "    <tr>\n",
       "      <th>mean</th>\n",
       "      <td>4.456643</td>\n",
       "      <td>0.0</td>\n",
       "      <td>0.0</td>\n",
       "      <td>0.0</td>\n",
       "      <td>0.0</td>\n",
       "      <td>0.0</td>\n",
       "      <td>0.0</td>\n",
       "      <td>0.0</td>\n",
       "      <td>0.0</td>\n",
       "      <td>0.0</td>\n",
       "      <td>...</td>\n",
       "      <td>0.219286</td>\n",
       "      <td>0.117095</td>\n",
       "      <td>0.059024</td>\n",
       "      <td>0.02019</td>\n",
       "      <td>0.017238</td>\n",
       "      <td>0.002857</td>\n",
       "      <td>0.0</td>\n",
       "      <td>0.0</td>\n",
       "      <td>0.0</td>\n",
       "      <td>0.0</td>\n",
       "    </tr>\n",
       "    <tr>\n",
       "      <th>std</th>\n",
       "      <td>2.887730</td>\n",
       "      <td>0.0</td>\n",
       "      <td>0.0</td>\n",
       "      <td>0.0</td>\n",
       "      <td>0.0</td>\n",
       "      <td>0.0</td>\n",
       "      <td>0.0</td>\n",
       "      <td>0.0</td>\n",
       "      <td>0.0</td>\n",
       "      <td>0.0</td>\n",
       "      <td>...</td>\n",
       "      <td>6.312890</td>\n",
       "      <td>4.633819</td>\n",
       "      <td>3.274488</td>\n",
       "      <td>1.75987</td>\n",
       "      <td>1.894498</td>\n",
       "      <td>0.414264</td>\n",
       "      <td>0.0</td>\n",
       "      <td>0.0</td>\n",
       "      <td>0.0</td>\n",
       "      <td>0.0</td>\n",
       "    </tr>\n",
       "    <tr>\n",
       "      <th>min</th>\n",
       "      <td>0.000000</td>\n",
       "      <td>0.0</td>\n",
       "      <td>0.0</td>\n",
       "      <td>0.0</td>\n",
       "      <td>0.0</td>\n",
       "      <td>0.0</td>\n",
       "      <td>0.0</td>\n",
       "      <td>0.0</td>\n",
       "      <td>0.0</td>\n",
       "      <td>0.0</td>\n",
       "      <td>...</td>\n",
       "      <td>0.000000</td>\n",
       "      <td>0.000000</td>\n",
       "      <td>0.000000</td>\n",
       "      <td>0.00000</td>\n",
       "      <td>0.000000</td>\n",
       "      <td>0.000000</td>\n",
       "      <td>0.0</td>\n",
       "      <td>0.0</td>\n",
       "      <td>0.0</td>\n",
       "      <td>0.0</td>\n",
       "    </tr>\n",
       "    <tr>\n",
       "      <th>25%</th>\n",
       "      <td>2.000000</td>\n",
       "      <td>0.0</td>\n",
       "      <td>0.0</td>\n",
       "      <td>0.0</td>\n",
       "      <td>0.0</td>\n",
       "      <td>0.0</td>\n",
       "      <td>0.0</td>\n",
       "      <td>0.0</td>\n",
       "      <td>0.0</td>\n",
       "      <td>0.0</td>\n",
       "      <td>...</td>\n",
       "      <td>0.000000</td>\n",
       "      <td>0.000000</td>\n",
       "      <td>0.000000</td>\n",
       "      <td>0.00000</td>\n",
       "      <td>0.000000</td>\n",
       "      <td>0.000000</td>\n",
       "      <td>0.0</td>\n",
       "      <td>0.0</td>\n",
       "      <td>0.0</td>\n",
       "      <td>0.0</td>\n",
       "    </tr>\n",
       "    <tr>\n",
       "      <th>50%</th>\n",
       "      <td>4.000000</td>\n",
       "      <td>0.0</td>\n",
       "      <td>0.0</td>\n",
       "      <td>0.0</td>\n",
       "      <td>0.0</td>\n",
       "      <td>0.0</td>\n",
       "      <td>0.0</td>\n",
       "      <td>0.0</td>\n",
       "      <td>0.0</td>\n",
       "      <td>0.0</td>\n",
       "      <td>...</td>\n",
       "      <td>0.000000</td>\n",
       "      <td>0.000000</td>\n",
       "      <td>0.000000</td>\n",
       "      <td>0.00000</td>\n",
       "      <td>0.000000</td>\n",
       "      <td>0.000000</td>\n",
       "      <td>0.0</td>\n",
       "      <td>0.0</td>\n",
       "      <td>0.0</td>\n",
       "      <td>0.0</td>\n",
       "    </tr>\n",
       "    <tr>\n",
       "      <th>75%</th>\n",
       "      <td>7.000000</td>\n",
       "      <td>0.0</td>\n",
       "      <td>0.0</td>\n",
       "      <td>0.0</td>\n",
       "      <td>0.0</td>\n",
       "      <td>0.0</td>\n",
       "      <td>0.0</td>\n",
       "      <td>0.0</td>\n",
       "      <td>0.0</td>\n",
       "      <td>0.0</td>\n",
       "      <td>...</td>\n",
       "      <td>0.000000</td>\n",
       "      <td>0.000000</td>\n",
       "      <td>0.000000</td>\n",
       "      <td>0.00000</td>\n",
       "      <td>0.000000</td>\n",
       "      <td>0.000000</td>\n",
       "      <td>0.0</td>\n",
       "      <td>0.0</td>\n",
       "      <td>0.0</td>\n",
       "      <td>0.0</td>\n",
       "    </tr>\n",
       "    <tr>\n",
       "      <th>max</th>\n",
       "      <td>9.000000</td>\n",
       "      <td>0.0</td>\n",
       "      <td>0.0</td>\n",
       "      <td>0.0</td>\n",
       "      <td>0.0</td>\n",
       "      <td>0.0</td>\n",
       "      <td>0.0</td>\n",
       "      <td>0.0</td>\n",
       "      <td>0.0</td>\n",
       "      <td>0.0</td>\n",
       "      <td>...</td>\n",
       "      <td>254.000000</td>\n",
       "      <td>254.000000</td>\n",
       "      <td>253.000000</td>\n",
       "      <td>253.00000</td>\n",
       "      <td>254.000000</td>\n",
       "      <td>62.000000</td>\n",
       "      <td>0.0</td>\n",
       "      <td>0.0</td>\n",
       "      <td>0.0</td>\n",
       "      <td>0.0</td>\n",
       "    </tr>\n",
       "  </tbody>\n",
       "</table>\n",
       "<p>8 rows × 785 columns</p>\n",
       "</div>"
      ],
      "text/plain": [
       "              label   pixel0   pixel1   pixel2   pixel3   pixel4   pixel5  \\\n",
       "count  42000.000000  42000.0  42000.0  42000.0  42000.0  42000.0  42000.0   \n",
       "mean       4.456643      0.0      0.0      0.0      0.0      0.0      0.0   \n",
       "std        2.887730      0.0      0.0      0.0      0.0      0.0      0.0   \n",
       "min        0.000000      0.0      0.0      0.0      0.0      0.0      0.0   \n",
       "25%        2.000000      0.0      0.0      0.0      0.0      0.0      0.0   \n",
       "50%        4.000000      0.0      0.0      0.0      0.0      0.0      0.0   \n",
       "75%        7.000000      0.0      0.0      0.0      0.0      0.0      0.0   \n",
       "max        9.000000      0.0      0.0      0.0      0.0      0.0      0.0   \n",
       "\n",
       "        pixel6   pixel7   pixel8  ...      pixel774      pixel775  \\\n",
       "count  42000.0  42000.0  42000.0  ...  42000.000000  42000.000000   \n",
       "mean       0.0      0.0      0.0  ...      0.219286      0.117095   \n",
       "std        0.0      0.0      0.0  ...      6.312890      4.633819   \n",
       "min        0.0      0.0      0.0  ...      0.000000      0.000000   \n",
       "25%        0.0      0.0      0.0  ...      0.000000      0.000000   \n",
       "50%        0.0      0.0      0.0  ...      0.000000      0.000000   \n",
       "75%        0.0      0.0      0.0  ...      0.000000      0.000000   \n",
       "max        0.0      0.0      0.0  ...    254.000000    254.000000   \n",
       "\n",
       "           pixel776     pixel777      pixel778      pixel779  pixel780  \\\n",
       "count  42000.000000  42000.00000  42000.000000  42000.000000   42000.0   \n",
       "mean       0.059024      0.02019      0.017238      0.002857       0.0   \n",
       "std        3.274488      1.75987      1.894498      0.414264       0.0   \n",
       "min        0.000000      0.00000      0.000000      0.000000       0.0   \n",
       "25%        0.000000      0.00000      0.000000      0.000000       0.0   \n",
       "50%        0.000000      0.00000      0.000000      0.000000       0.0   \n",
       "75%        0.000000      0.00000      0.000000      0.000000       0.0   \n",
       "max      253.000000    253.00000    254.000000     62.000000       0.0   \n",
       "\n",
       "       pixel781  pixel782  pixel783  \n",
       "count   42000.0   42000.0   42000.0  \n",
       "mean        0.0       0.0       0.0  \n",
       "std         0.0       0.0       0.0  \n",
       "min         0.0       0.0       0.0  \n",
       "25%         0.0       0.0       0.0  \n",
       "50%         0.0       0.0       0.0  \n",
       "75%         0.0       0.0       0.0  \n",
       "max         0.0       0.0       0.0  \n",
       "\n",
       "[8 rows x 785 columns]"
      ]
     },
     "execution_count": 3,
     "metadata": {},
     "output_type": "execute_result"
    }
   ],
   "source": [
    "train_df.describe()"
   ]
  },
  {
   "cell_type": "markdown",
   "metadata": {
    "papermill": {
     "duration": 0.051667,
     "end_time": "2020-11-15T17:15:35.895692",
     "exception": false,
     "start_time": "2020-11-15T17:15:35.844025",
     "status": "completed"
    },
    "tags": []
   },
   "source": [
    "As you can see, there is a label column in the training dataframe which is the target output and you have pixel values from pixel0 all the way to pixel783 which is basically a flattened 28 * 28 image. each pixel has a value between 0 and 255, 0 being black and 255 being white.  \n",
    "Let's take a look at some of these images"
   ]
  },
  {
   "cell_type": "code",
   "execution_count": 4,
   "metadata": {
    "execution": {
     "iopub.execute_input": "2020-11-15T17:15:35.979643Z",
     "iopub.status.busy": "2020-11-15T17:15:35.978513Z",
     "iopub.status.idle": "2020-11-15T17:15:35.983227Z",
     "shell.execute_reply": "2020-11-15T17:15:35.982597Z"
    },
    "papermill": {
     "duration": 0.044087,
     "end_time": "2020-11-15T17:15:35.983363",
     "exception": false,
     "start_time": "2020-11-15T17:15:35.939276",
     "status": "completed"
    },
    "tags": []
   },
   "outputs": [],
   "source": [
    "def show_training_example(df, train=True):\n",
    "    index = np.random.randint(len(df))\n",
    "    example = df.iloc[index]\n",
    "    if train:\n",
    "        label = example[0]\n",
    "        img = example[1:].values.reshape((28, 28))\n",
    "    else:\n",
    "        img = example.values.reshape((28, 28))\n",
    "        label = \"Unknown\"\n",
    "    plt.imshow(img, cmap=\"gray\")\n",
    "    plt.title(label)\n",
    "    plt.show()"
   ]
  },
  {
   "cell_type": "code",
   "execution_count": 5,
   "metadata": {
    "execution": {
     "iopub.execute_input": "2020-11-15T17:15:36.054153Z",
     "iopub.status.busy": "2020-11-15T17:15:36.053023Z",
     "iopub.status.idle": "2020-11-15T17:15:36.290310Z",
     "shell.execute_reply": "2020-11-15T17:15:36.290952Z"
    },
    "papermill": {
     "duration": 0.276508,
     "end_time": "2020-11-15T17:15:36.291144",
     "exception": false,
     "start_time": "2020-11-15T17:15:36.014636",
     "status": "completed"
    },
    "tags": []
   },
   "outputs": [
    {
     "data": {
      "image/png": "[encoded data removed]",
      "text/plain": [
       "<Figure size 432x288 with 1 Axes>"
      ]
     },
     "metadata": {
      "needs_background": "light"
     },
     "output_type": "display_data"
    }
   ],
   "source": [
    "show_training_example(train_df)"
   ]
  },
  {
   "cell_type": "markdown",
   "metadata": {
    "papermill": {
     "duration": 0.031136,
     "end_time": "2020-11-15T17:15:36.357233",
     "exception": false,
     "start_time": "2020-11-15T17:15:36.326097",
     "status": "completed"
    },
    "tags": []
   },
   "source": [
    "The reason why the data is provided as a flattened array instead of an image is that almost all machine learning algorithms require a flat array (if we exclude deep learning).  \n",
    "\n",
    "Now we are going to take only zeros and ones to do binary classification"
   ]
  },
  {
   "cell_type": "code",
   "execution_count": 6,
   "metadata": {
    "_cell_guid": "79c7e3d0-c299-4dcb-8224-4455121ee9b0",
    "_uuid": "d629ff2d2480ee46fbb7e2d37f6b5fab8052498a",
    "execution": {
     "iopub.execute_input": "2020-11-15T17:15:36.425639Z",
     "iopub.status.busy": "2020-11-15T17:15:36.424875Z",
     "iopub.status.idle": "2020-11-15T17:15:36.658789Z",
     "shell.execute_reply": "2020-11-15T17:15:36.659639Z"
    },
    "papermill": {
     "duration": 0.271567,
     "end_time": "2020-11-15T17:15:36.659877",
     "exception": false,
     "start_time": "2020-11-15T17:15:36.388310",
     "status": "completed"
    },
    "tags": []
   },
   "outputs": [
    {
     "data": {
      "image/png": "[encoded data removed]",
      "text/plain": [
       "<Figure size 432x288 with 1 Axes>"
      ]
     },
     "metadata": {
      "needs_background": "light"
     },
     "output_type": "display_data"
    },
    {
     "name": "stdout",
     "output_type": "stream",
     "text": [
      "8816\n"
     ]
    }
   ],
   "source": [
    "# Now we are going to get images of only zeros and ones to do binar classification\n",
    "binary_df = train_df.loc[train_df['label'] < 2]\n",
    "show_training_example(binary_df)\n",
    "print(len(binary_df))"
   ]
  },
  {
   "cell_type": "markdown",
   "metadata": {
    "papermill": {
     "duration": 0.032923,
     "end_time": "2020-11-15T17:15:36.729840",
     "exception": false,
     "start_time": "2020-11-15T17:15:36.696917",
     "status": "completed"
    },
    "tags": []
   },
   "source": [
    "## Logistic Regression for binary classification\n",
    "\n",
    "> **Note** some basic linear algebra ahead\n",
    "\n",
    "Let's assume the input features make a vector $X$ where the dimension of $X$ is $(n, 1)$ where $n$ is the number of features.  \n",
    "Right now we have only one output which takes values 0 or 1 let's call it the hypothesis $h$ of shape $(c, 1)$ where $c$ the number of classes (one in this case). we need some tranformation matrix that takes us from $X$ to $O$, we will call this matrix the weights matrix $W$ where $W$ is of shape $(n, c)$.  \n",
    "Our hypothesis $h = X \\odot W$ however there are two problems with this hypothesis:\n",
    "- The separating line between the two classes always (aka decision boundary) passes through the origin\n",
    "- It outputs values from $-\\infty$ to $\\infty$ and we need numbers between 0 and 1\n",
    "\n",
    "to solve the first problem we add the bias vector $b$ of shape $(1, 1)$ per example  \n",
    "To solve the second we use the logistic sigmoid function which takes the real number line and squeezes it between 0 and 1.  \n",
    "$$ h = \\sigma(X \\odot W + b) $$\n",
    "Where\n",
    "$$ \\sigma(z) = \\frac{1}{1+e^{-z}}$$\n",
    "\n",
    "\n",
    "![With and without Bias term](https://www.jeremyjordan.me/content/images/2018/01/Screen-Shot-2017-06-29-at-5.34.44-PM.png)"
   ]
  },
  {
   "cell_type": "code",
   "execution_count": 7,
   "metadata": {
    "execution": {
     "iopub.execute_input": "2020-11-15T17:15:36.802992Z",
     "iopub.status.busy": "2020-11-15T17:15:36.802216Z",
     "iopub.status.idle": "2020-11-15T17:15:36.805893Z",
     "shell.execute_reply": "2020-11-15T17:15:36.805160Z"
    },
    "papermill": {
     "duration": 0.043521,
     "end_time": "2020-11-15T17:15:36.806020",
     "exception": false,
     "start_time": "2020-11-15T17:15:36.762499",
     "status": "completed"
    },
    "tags": []
   },
   "outputs": [],
   "source": [
    "def sigmoid(z):\n",
    "    return 1. / (1. + np.exp(-z))\n",
    "\n",
    "def hypothesis(X, W, b):\n",
    "    return sigmoid(np.dot(X, W) + b)"
   ]
  },
  {
   "cell_type": "markdown",
   "metadata": {
    "papermill": {
     "duration": 0.03274,
     "end_time": "2020-11-15T17:15:36.875042",
     "exception": false,
     "start_time": "2020-11-15T17:15:36.842302",
     "status": "completed"
    },
    "tags": []
   },
   "source": [
    "What the hypothesis represents is the probability of the data example being of class 1, however, if we use it as is it will give random results simply because $W$ and $b$ are randomly initialized.  \n",
    "We need a way to iteratively improve the values of $W$ and $b$ so that they would describe the data better.  \n",
    "To do so we need to know how bad the current values are, and this is measured using the cost function."
   ]
  },
  {
   "cell_type": "markdown",
   "metadata": {
    "papermill": {
     "duration": 0.03323,
     "end_time": "2020-11-15T17:15:36.941250",
     "exception": false,
     "start_time": "2020-11-15T17:15:36.908020",
     "status": "completed"
    },
    "tags": []
   },
   "source": [
    "We will write the loss function for one example and then we will write the general cost function and then explain both.\n",
    "- Loss function\n",
    "$$ l = - y\\log(h(x)) - (1 - y)\\log(1 - h(x)) $$\n",
    "where $x$ is the feature vector for one example and $y$ is the target label.  \n",
    "\n",
    "- Cost function over all examples\n",
    "$$ L = \\frac{1}{m}\\sum_{i=1}^m - y_i\\log(h(x_i)) - (1 - y_i)\\log(1 - h(x_i)) $$\n",
    "So the cost function is simply the mean of the loss over all training examples.  \n",
    "\n",
    "Now let's see why this works.  \n",
    "When $y_i == 1$ and $h(x_i) \\simeq 0$ this means we got it wrong, this will cause the second term of the equation to equal 0 however the first term is goint to be $\\log(~0)$ which is going to be a very big negative number.  \n",
    "When $y_i == 1$ and $h(x_i) \\simeq 1$ this means we got it right, this will cause the second term of the equation to equal 0 however the first term is goint to be $\\log(~1)$ which is going to be a very small negative number.  \n",
    "\n",
    "Now this proves that the Loss function we wrote earlier is a good indicator for how bad the model is which means we need to run some sort of optimization algorithm on this function to minimize it with respect to $W$ and $b$."
   ]
  },
  {
   "cell_type": "code",
   "execution_count": 8,
   "metadata": {
    "execution": {
     "iopub.execute_input": "2020-11-15T17:15:37.015610Z",
     "iopub.status.busy": "2020-11-15T17:15:37.014553Z",
     "iopub.status.idle": "2020-11-15T17:15:37.018775Z",
     "shell.execute_reply": "2020-11-15T17:15:37.017984Z"
    },
    "papermill": {
     "duration": 0.044734,
     "end_time": "2020-11-15T17:15:37.018919",
     "exception": false,
     "start_time": "2020-11-15T17:15:36.974185",
     "status": "completed"
    },
    "tags": []
   },
   "outputs": [],
   "source": [
    "def cost(h, y):\n",
    "    return (-y * np.log(h + 0.001) - (1 - y) * np.log(1 - h + 0.001)).mean()\n",
    "\n",
    "## the small number in the log is to prevent log(0) which would overflow"
   ]
  },
  {
   "cell_type": "markdown",
   "metadata": {
    "papermill": {
     "duration": 0.032703,
     "end_time": "2020-11-15T17:15:37.086842",
     "exception": false,
     "start_time": "2020-11-15T17:15:37.054139",
     "status": "completed"
    },
    "tags": []
   },
   "source": [
    "### Gradient Descent\n",
    "![Gradient Descent](https://cdn-images-1.medium.com/max/600/1*iNPHcCxIvcm7RwkRaMTx1g.jpeg)  \n",
    "\n",
    "From vector analysis we know that the gradient of a function is the direction at which the function increases the most denoted by the symbol $\\nabla$.  \n",
    "If we can calculate the gradient of the cost function $\\nabla L$ at any point and move in the opposite direction updating the weights and bias this is going to slowly decrease the loss until we reach a local minimum.  \n",
    "Update equations\n",
    "$$ W := W - \\alpha * \\nabla_{W} L $$\n",
    "$$ b := b - \\alpha * \\nabla_{b} L $$\n",
    "$ \\nabla_{W} L = X^T \\odot (h - y) $  \n",
    "$ \\nabla_{b} L = (h - y) $"
   ]
  },
  {
   "cell_type": "code",
   "execution_count": 9,
   "metadata": {
    "execution": {
     "iopub.execute_input": "2020-11-15T17:15:37.182542Z",
     "iopub.status.busy": "2020-11-15T17:15:37.181257Z",
     "iopub.status.idle": "2020-11-15T17:15:37.283141Z",
     "shell.execute_reply": "2020-11-15T17:15:37.283750Z"
    },
    "papermill": {
     "duration": 0.163292,
     "end_time": "2020-11-15T17:15:37.283928",
     "exception": false,
     "start_time": "2020-11-15T17:15:37.120636",
     "status": "completed"
    },
    "tags": []
   },
   "outputs": [
    {
     "name": "stdout",
     "output_type": "stream",
     "text": [
      "(7052, 784)\n",
      "(7052,)\n",
      "(1764, 784)\n",
      "(1764,)\n"
     ]
    }
   ],
   "source": [
    "# now let's start training\n",
    "from sklearn.model_selection import train_test_split\n",
    "X = binary_df.drop(columns=['label']).values / 255.\n",
    "y = binary_df['label']\n",
    "X_train, X_test, y_train, y_test = train_test_split(X, y, test_size=0.2)\n",
    "print(X_train.shape)\n",
    "print(y_train.shape)\n",
    "print(X_test.shape)\n",
    "print(y_test.shape)"
   ]
  },
  {
   "cell_type": "code",
   "execution_count": 10,
   "metadata": {
    "execution": {
     "iopub.execute_input": "2020-11-15T17:15:37.362347Z",
     "iopub.status.busy": "2020-11-15T17:15:37.361347Z",
     "iopub.status.idle": "2020-11-15T17:15:38.656944Z",
     "shell.execute_reply": "2020-11-15T17:15:38.656310Z"
    },
    "papermill": {
     "duration": 1.339286,
     "end_time": "2020-11-15T17:15:38.657069",
     "exception": false,
     "start_time": "2020-11-15T17:15:37.317783",
     "status": "completed"
    },
    "tags": []
   },
   "outputs": [
    {
     "name": "stdout",
     "output_type": "stream",
     "text": [
      "3.265277967059318\n",
      "0.03818799132497251\n",
      "0.02839049782541736\n",
      "0.024518823248439493\n"
     ]
    },
    {
     "name": "stderr",
     "output_type": "stream",
     "text": [
      "/opt/conda/lib/python3.7/site-packages/ipykernel_launcher.py:2: RuntimeWarning: overflow encountered in exp\n",
      "  \n"
     ]
    },
    {
     "name": "stdout",
     "output_type": "stream",
     "text": [
      "0.022512994661753008\n",
      "0.02153661374661508\n",
      "0.01957393278739879\n",
      "0.01859333270284336\n",
      "0.014741370953008362\n",
      "0.012745087173516106\n",
      "0.011736434487282163\n",
      "0.011736434455981949\n",
      "0.01173643445578874\n",
      "0.011736434455787547\n",
      "0.011736434455787542\n",
      "0.010802148738443968\n",
      "0.010799849797249683\n",
      "0.009820780135980348\n",
      "0.008922858165977016\n",
      "0.008051786334940442\n"
     ]
    }
   ],
   "source": [
    "W = np.random.rand(X_train.shape[1])\n",
    "b = np.random.rand(1)\n",
    "alpha = 0.1\n",
    "epochs = 200\n",
    "costs = []\n",
    "for i in range(epochs):\n",
    "    h = hypothesis(X_train, W, b)\n",
    "    costs.append(cost(h, y_train))\n",
    "    W -= alpha * np.dot(X_train.T, (h - y_train))\n",
    "    b -= alpha * (h - y_train).mean()\n",
    "    if i % 10 == 0:\n",
    "        print(costs[-1])\n",
    "    "
   ]
  },
  {
   "cell_type": "code",
   "execution_count": 11,
   "metadata": {
    "execution": {
     "iopub.execute_input": "2020-11-15T17:15:38.753426Z",
     "iopub.status.busy": "2020-11-15T17:15:38.752134Z",
     "iopub.status.idle": "2020-11-15T17:15:38.975633Z",
     "shell.execute_reply": "2020-11-15T17:15:38.973580Z"
    },
    "papermill": {
     "duration": 0.279485,
     "end_time": "2020-11-15T17:15:38.975859",
     "exception": false,
     "start_time": "2020-11-15T17:15:38.696374",
     "status": "completed"
    },
    "tags": []
   },
   "outputs": [
    {
     "data": {
      "image/png": "[encoded data removed]",
      "text/plain": [
       "<Figure size 432x288 with 1 Axes>"
      ]
     },
     "metadata": {
      "needs_background": "light"
     },
     "output_type": "display_data"
    }
   ],
   "source": [
    "plt.plot(list(range(epochs-2)), costs[2:])\n",
    "plt.show()"
   ]
  },
  {
   "cell_type": "markdown",
   "metadata": {
    "papermill": {
     "duration": 0.042324,
     "end_time": "2020-11-15T17:15:39.079166",
     "exception": false,
     "start_time": "2020-11-15T17:15:39.036842",
     "status": "completed"
    },
    "tags": []
   },
   "source": [
    "The loss is decreasing which is good!  \n",
    "Now let's make predictions using our weight and bias"
   ]
  },
  {
   "cell_type": "code",
   "execution_count": 12,
   "metadata": {
    "execution": {
     "iopub.execute_input": "2020-11-15T17:15:39.167660Z",
     "iopub.status.busy": "2020-11-15T17:15:39.166761Z",
     "iopub.status.idle": "2020-11-15T17:15:39.175322Z",
     "shell.execute_reply": "2020-11-15T17:15:39.176183Z"
    },
    "papermill": {
     "duration": 0.057236,
     "end_time": "2020-11-15T17:15:39.176377",
     "exception": false,
     "start_time": "2020-11-15T17:15:39.119141",
     "status": "completed"
    },
    "tags": []
   },
   "outputs": [
    {
     "name": "stderr",
     "output_type": "stream",
     "text": [
      "/opt/conda/lib/python3.7/site-packages/ipykernel_launcher.py:2: RuntimeWarning: overflow encountered in exp\n",
      "  \n"
     ]
    }
   ],
   "source": [
    "from sklearn.metrics import accuracy_score\n",
    "h_test = hypothesis(X_test, W, b)\n",
    "for i in range(h_test.size):\n",
    "    h_test[i] = int(h_test[i] >= 0.5)"
   ]
  },
  {
   "cell_type": "code",
   "execution_count": 13,
   "metadata": {
    "execution": {
     "iopub.execute_input": "2020-11-15T17:15:39.279860Z",
     "iopub.status.busy": "2020-11-15T17:15:39.278471Z",
     "iopub.status.idle": "2020-11-15T17:15:39.285313Z",
     "shell.execute_reply": "2020-11-15T17:15:39.284372Z"
    },
    "papermill": {
     "duration": 0.061288,
     "end_time": "2020-11-15T17:15:39.285507",
     "exception": false,
     "start_time": "2020-11-15T17:15:39.224219",
     "status": "completed"
    },
    "tags": []
   },
   "outputs": [
    {
     "data": {
      "text/plain": [
       "0.9982993197278912"
      ]
     },
     "execution_count": 13,
     "metadata": {},
     "output_type": "execute_result"
    }
   ],
   "source": [
    "accuracy_score(y_test, h_test)"
   ]
  },
  {
   "cell_type": "markdown",
   "metadata": {
    "papermill": {
     "duration": 0.0508,
     "end_time": "2020-11-15T17:15:39.400615",
     "exception": false,
     "start_time": "2020-11-15T17:15:39.349815",
     "status": "completed"
    },
    "tags": []
   },
   "source": [
    "As you can see we can now get a model that can classify images of hand written zeros and ones with an accuracy of 99.7% which is not bad at all.  \n",
    "Now we will use [sklearn.linear_model.LogisticRegression](https://scikit-learn.org/stable/modules/generated/sklearn.linear_model.LogisticRegression.html) model"
   ]
  },
  {
   "cell_type": "code",
   "execution_count": 14,
   "metadata": {
    "execution": {
     "iopub.execute_input": "2020-11-15T17:15:39.493614Z",
     "iopub.status.busy": "2020-11-15T17:15:39.492811Z",
     "iopub.status.idle": "2020-11-15T17:15:39.654654Z",
     "shell.execute_reply": "2020-11-15T17:15:39.653946Z"
    },
    "papermill": {
     "duration": 0.208667,
     "end_time": "2020-11-15T17:15:39.654790",
     "exception": false,
     "start_time": "2020-11-15T17:15:39.446123",
     "status": "completed"
    },
    "tags": []
   },
   "outputs": [
    {
     "data": {
      "text/plain": [
       "0.9994331065759637"
      ]
     },
     "execution_count": 14,
     "metadata": {},
     "output_type": "execute_result"
    }
   ],
   "source": [
    "model = LogisticRegression(penalty=\"none\")\n",
    "\n",
    "model.fit(X_train, y_train)\n",
    "\n",
    "accuracy_score(y_test, model.predict(X_test))"
   ]
  },
  {
   "cell_type": "markdown",
   "metadata": {
    "papermill": {
     "duration": 0.040887,
     "end_time": "2020-11-15T17:15:39.737173",
     "exception": false,
     "start_time": "2020-11-15T17:15:39.696286",
     "status": "completed"
    },
    "tags": []
   },
   "source": [
    "Not too far"
   ]
  },
  {
   "cell_type": "markdown",
   "metadata": {
    "papermill": {
     "duration": 0.040988,
     "end_time": "2020-11-15T17:15:39.819778",
     "exception": false,
     "start_time": "2020-11-15T17:15:39.778790",
     "status": "completed"
    },
    "tags": []
   },
   "source": [
    "### Multi class classification\n",
    "If you read the docs for the LogisticRegression classifier, it will tell you that for multiclass classification (which means you have more than two classes) it can use the one-vs-Rest method (OvR) if you set the `multi_class` parameter to 'ovr', however, by default it uses crossentropy loss for multiclass problems which is more complex than the simple log loss function.  \n",
    "OvR means that for the mnist problem it would train one classifier that can say whether a digit is 0 or not, and another for ones and another for twos and so on, so it would train 10 models, one for each digit."
   ]
  },
  {
   "cell_type": "code",
   "execution_count": 15,
   "metadata": {
    "execution": {
     "iopub.execute_input": "2020-11-15T17:15:40.017114Z",
     "iopub.status.busy": "2020-11-15T17:15:39.910758Z",
     "iopub.status.idle": "2020-11-15T17:15:40.596701Z",
     "shell.execute_reply": "2020-11-15T17:15:40.596035Z"
    },
    "papermill": {
     "duration": 0.734697,
     "end_time": "2020-11-15T17:15:40.596881",
     "exception": false,
     "start_time": "2020-11-15T17:15:39.862184",
     "status": "completed"
    },
    "tags": []
   },
   "outputs": [],
   "source": [
    "X = train_df.drop(columns=[\"label\"]).values / 255.\n",
    "y = train_df[\"label\"]\n",
    "\n",
    "X_train, X_test, y_train, y_test = train_test_split(X, y, test_size=0.2)"
   ]
  },
  {
   "cell_type": "code",
   "execution_count": 16,
   "metadata": {
    "execution": {
     "iopub.execute_input": "2020-11-15T17:15:40.686932Z",
     "iopub.status.busy": "2020-11-15T17:15:40.686162Z",
     "iopub.status.idle": "2020-11-15T17:15:47.930234Z",
     "shell.execute_reply": "2020-11-15T17:15:47.929572Z"
    },
    "papermill": {
     "duration": 7.291221,
     "end_time": "2020-11-15T17:15:47.930369",
     "exception": false,
     "start_time": "2020-11-15T17:15:40.639148",
     "status": "completed"
    },
    "tags": []
   },
   "outputs": [
    {
     "name": "stderr",
     "output_type": "stream",
     "text": [
      "/opt/conda/lib/python3.7/site-packages/sklearn/linear_model/_logistic.py:764: ConvergenceWarning: lbfgs failed to converge (status=1):\n",
      "STOP: TOTAL NO. of ITERATIONS REACHED LIMIT.\n",
      "\n",
      "Increase the number of iterations (max_iter) or scale the data as shown in:\n",
      "    https://scikit-learn.org/stable/modules/preprocessing.html\n",
      "Please also refer to the documentation for alternative solver options:\n",
      "    https://scikit-learn.org/stable/modules/linear_model.html#logistic-regression\n",
      "  extra_warning_msg=_LOGISTIC_SOLVER_CONVERGENCE_MSG)\n"
     ]
    },
    {
     "data": {
      "text/plain": [
       "0.9164285714285715"
      ]
     },
     "execution_count": 16,
     "metadata": {},
     "output_type": "execute_result"
    }
   ],
   "source": [
    "# let's try crossentropy\n",
    "model = LogisticRegression(penalty=\"none\")\n",
    "model.fit(X_train, y_train)\n",
    "\n",
    "accuracy_score(y_test, model.predict(X_test))"
   ]
  },
  {
   "cell_type": "markdown",
   "metadata": {
    "papermill": {
     "duration": 0.043847,
     "end_time": "2020-11-15T17:15:48.017010",
     "exception": false,
     "start_time": "2020-11-15T17:15:47.973163",
     "status": "completed"
    },
    "tags": []
   },
   "source": [
    "just out of curiousity, what is the accuracy score on the training data"
   ]
  },
  {
   "cell_type": "code",
   "execution_count": 17,
   "metadata": {
    "execution": {
     "iopub.execute_input": "2020-11-15T17:15:48.108880Z",
     "iopub.status.busy": "2020-11-15T17:15:48.108109Z",
     "iopub.status.idle": "2020-11-15T17:15:48.155121Z",
     "shell.execute_reply": "2020-11-15T17:15:48.155813Z"
    },
    "papermill": {
     "duration": 0.0959,
     "end_time": "2020-11-15T17:15:48.155990",
     "exception": false,
     "start_time": "2020-11-15T17:15:48.060090",
     "status": "completed"
    },
    "tags": []
   },
   "outputs": [
    {
     "data": {
      "text/plain": [
       "0.9417857142857143"
      ]
     },
     "execution_count": 17,
     "metadata": {},
     "output_type": "execute_result"
    }
   ],
   "source": [
    "accuracy_score(y_train, model.predict(X_train))"
   ]
  },
  {
   "cell_type": "markdown",
   "metadata": {
    "papermill": {
     "duration": 0.043063,
     "end_time": "2020-11-15T17:15:48.244508",
     "exception": false,
     "start_time": "2020-11-15T17:15:48.201445",
     "status": "completed"
    },
    "tags": []
   },
   "source": [
    "It seems to be much higher, this happened because the mode memorized the training data and failed to generalize to new data, this phenominon is called overfitting and can be solved using regularization\n",
    "### Regularization\n",
    "regularization is so simple, all we need to do is add a term to the loss function that penalizes the model for having high weights.\n",
    "$$ L = \\frac{1}{m}\\sum_{i=1}^m - y_i\\log(h(x_i)) - (1 - y_i)\\log(1 - h(x_i)) + \\lambda \\|{W}\\|^2 $$  \n",
    "In scikit learn you just need to set the `penalty` parameter to 'l2' which is the default value.  \n",
    "Let's try it."
   ]
  },
  {
   "cell_type": "code",
   "execution_count": 18,
   "metadata": {
    "execution": {
     "iopub.execute_input": "2020-11-15T17:15:48.340317Z",
     "iopub.status.busy": "2020-11-15T17:15:48.339020Z",
     "iopub.status.idle": "2020-11-15T17:15:55.527142Z",
     "shell.execute_reply": "2020-11-15T17:15:55.527779Z"
    },
    "papermill": {
     "duration": 7.240048,
     "end_time": "2020-11-15T17:15:55.527943",
     "exception": false,
     "start_time": "2020-11-15T17:15:48.287895",
     "status": "completed"
    },
    "tags": []
   },
   "outputs": [
    {
     "name": "stdout",
     "output_type": "stream",
     "text": [
      "Training Accuracy: 0.9163690476190476, Testing Accuracy: 0.9117857142857143\n"
     ]
    },
    {
     "name": "stderr",
     "output_type": "stream",
     "text": [
      "/opt/conda/lib/python3.7/site-packages/sklearn/linear_model/_logistic.py:764: ConvergenceWarning: lbfgs failed to converge (status=1):\n",
      "STOP: TOTAL NO. of ITERATIONS REACHED LIMIT.\n",
      "\n",
      "Increase the number of iterations (max_iter) or scale the data as shown in:\n",
      "    https://scikit-learn.org/stable/modules/preprocessing.html\n",
      "Please also refer to the documentation for alternative solver options:\n",
      "    https://scikit-learn.org/stable/modules/linear_model.html#logistic-regression\n",
      "  extra_warning_msg=_LOGISTIC_SOLVER_CONVERGENCE_MSG)\n"
     ]
    }
   ],
   "source": [
    "model = LogisticRegression(penalty='l2', C=0.01)\n",
    "model.fit(X_train, y_train)\n",
    "\n",
    "train_score = accuracy_score(y_train, model.predict(X_train))\n",
    "test_score = accuracy_score(y_test, model.predict(X_test))\n",
    "\n",
    "print(\"Training Accuracy: {}, Testing Accuracy: {}\".format(train_score, test_score))"
   ]
  },
  {
   "cell_type": "markdown",
   "metadata": {
    "papermill": {
     "duration": 0.043874,
     "end_time": "2020-11-15T17:15:55.616446",
     "exception": false,
     "start_time": "2020-11-15T17:15:55.572572",
     "status": "completed"
    },
    "tags": []
   },
   "source": [
    "If you look at the documentation you will see that the smaller the `C` parameter the stronger the regularization, which means it is the inverse of the $\\lambda$ in the equation. try different values of `C` and see which results in the least overfitting"
   ]
  },
  {
   "cell_type": "markdown",
   "metadata": {
    "papermill": {
     "duration": 0.044018,
     "end_time": "2020-11-15T17:15:55.704602",
     "exception": false,
     "start_time": "2020-11-15T17:15:55.660584",
     "status": "completed"
    },
    "tags": []
   },
   "source": [
    "## Let's make a submission"
   ]
  },
  {
   "cell_type": "code",
   "execution_count": 19,
   "metadata": {
    "execution": {
     "iopub.execute_input": "2020-11-15T17:15:55.934735Z",
     "iopub.status.busy": "2020-11-15T17:15:55.933514Z",
     "iopub.status.idle": "2020-11-15T17:16:05.071426Z",
     "shell.execute_reply": "2020-11-15T17:16:05.072020Z"
    },
    "papermill": {
     "duration": 9.323189,
     "end_time": "2020-11-15T17:16:05.072170",
     "exception": false,
     "start_time": "2020-11-15T17:15:55.748981",
     "status": "completed"
    },
    "tags": []
   },
   "outputs": [
    {
     "name": "stderr",
     "output_type": "stream",
     "text": [
      "/opt/conda/lib/python3.7/site-packages/sklearn/linear_model/_logistic.py:764: ConvergenceWarning: lbfgs failed to converge (status=1):\n",
      "STOP: TOTAL NO. of ITERATIONS REACHED LIMIT.\n",
      "\n",
      "Increase the number of iterations (max_iter) or scale the data as shown in:\n",
      "    https://scikit-learn.org/stable/modules/preprocessing.html\n",
      "Please also refer to the documentation for alternative solver options:\n",
      "    https://scikit-learn.org/stable/modules/linear_model.html#logistic-regression\n",
      "  extra_warning_msg=_LOGISTIC_SOLVER_CONVERGENCE_MSG)\n"
     ]
    },
    {
     "data": {
      "text/html": [
       "<div>\n",
       "<style scoped>\n",
       "    .dataframe tbody tr th:only-of-type {\n",
       "        vertical-align: middle;\n",
       "    }\n",
       "\n",
       "    .dataframe tbody tr th {\n",
       "        vertical-align: top;\n",
       "    }\n",
       "\n",
       "    .dataframe thead th {\n",
       "        text-align: right;\n",
       "    }\n",
       "</style>\n",
       "<table border=\"1\" class=\"dataframe\">\n",
       "  <thead>\n",
       "    <tr style=\"text-align: right;\">\n",
       "      <th></th>\n",
       "      <th>ImageId</th>\n",
       "      <th>Label</th>\n",
       "    </tr>\n",
       "  </thead>\n",
       "  <tbody>\n",
       "    <tr>\n",
       "      <th>0</th>\n",
       "      <td>1</td>\n",
       "      <td>2</td>\n",
       "    </tr>\n",
       "    <tr>\n",
       "      <th>1</th>\n",
       "      <td>2</td>\n",
       "      <td>0</td>\n",
       "    </tr>\n",
       "    <tr>\n",
       "      <th>2</th>\n",
       "      <td>3</td>\n",
       "      <td>9</td>\n",
       "    </tr>\n",
       "    <tr>\n",
       "      <th>3</th>\n",
       "      <td>4</td>\n",
       "      <td>7</td>\n",
       "    </tr>\n",
       "    <tr>\n",
       "      <th>4</th>\n",
       "      <td>5</td>\n",
       "      <td>3</td>\n",
       "    </tr>\n",
       "  </tbody>\n",
       "</table>\n",
       "</div>"
      ],
      "text/plain": [
       "   ImageId  Label\n",
       "0        1      2\n",
       "1        2      0\n",
       "2        3      9\n",
       "3        4      7\n",
       "4        5      3"
      ]
     },
     "execution_count": 19,
     "metadata": {},
     "output_type": "execute_result"
    }
   ],
   "source": [
    "X_train = train_df.drop(columns=[\"label\"]).values / 255.\n",
    "y_train = train_df[\"label\"]\n",
    "X_test = test_df.values / 255.\n",
    "\n",
    "model = LogisticRegression()\n",
    "\n",
    "model.fit(X_train, y_train)\n",
    "y_test = model.predict(X_test)\n",
    "submission[\"Label\"] = y_test\n",
    "\n",
    "submission.head()"
   ]
  },
  {
   "cell_type": "code",
   "execution_count": 20,
   "metadata": {
    "execution": {
     "iopub.execute_input": "2020-11-15T17:16:05.169749Z",
     "iopub.status.busy": "2020-11-15T17:16:05.168973Z",
     "iopub.status.idle": "2020-11-15T17:16:05.543432Z",
     "shell.execute_reply": "2020-11-15T17:16:05.542700Z"
    },
    "papermill": {
     "duration": 0.426086,
     "end_time": "2020-11-15T17:16:05.543556",
     "exception": false,
     "start_time": "2020-11-15T17:16:05.117470",
     "status": "completed"
    },
    "tags": []
   },
   "outputs": [],
   "source": [
    "submission.to_csv(\"result.csv\", index=False)"
   ]
  },
  {
   "cell_type": "markdown",
   "metadata": {
    "papermill": {
     "duration": 0.047147,
     "end_time": "2020-11-15T17:16:05.638407",
     "exception": false,
     "start_time": "2020-11-15T17:16:05.591260",
     "status": "completed"
    },
    "tags": []
   },
   "source": [
    "### Let's try SVMs and see if we get better results\n",
    "> **Note** SVMs are going to be explained in details in another notebook"
   ]
  },
  {
   "cell_type": "code",
   "execution_count": 21,
   "metadata": {
    "execution": {
     "iopub.execute_input": "2020-11-15T17:16:05.824412Z",
     "iopub.status.busy": "2020-11-15T17:16:05.823373Z",
     "iopub.status.idle": "2020-11-15T17:17:20.793199Z",
     "shell.execute_reply": "2020-11-15T17:17:20.792348Z"
    },
    "papermill": {
     "duration": 75.107522,
     "end_time": "2020-11-15T17:17:20.793371",
     "exception": false,
     "start_time": "2020-11-15T17:16:05.685849",
     "status": "completed"
    },
    "tags": []
   },
   "outputs": [
    {
     "name": "stdout",
     "output_type": "stream",
     "text": [
      "0.9086904761904762\n"
     ]
    },
    {
     "name": "stderr",
     "output_type": "stream",
     "text": [
      "/opt/conda/lib/python3.7/site-packages/sklearn/svm/_base.py:977: ConvergenceWarning: Liblinear failed to converge, increase the number of iterations.\n",
      "  \"the number of iterations.\", ConvergenceWarning)\n"
     ]
    }
   ],
   "source": [
    "X = train_df.drop(columns=[\"label\"]).values / 255.\n",
    "y = train_df[\"label\"]\n",
    "X_test = test_df.values / 255.\n",
    "\n",
    "X_train, X_validate, y_train, y_validate = train_test_split(X, y, test_size=0.2)\n",
    "\n",
    "model = LinearSVC()\n",
    "\n",
    "model.fit(X_train, y_train)\n",
    "preds_validate = model.predict(X_validate)\n",
    "\n",
    "print(accuracy_score(preds_validate, y_validate))\n"
   ]
  },
  {
   "cell_type": "code",
   "execution_count": 22,
   "metadata": {
    "execution": {
     "iopub.execute_input": "2020-11-15T17:17:20.977074Z",
     "iopub.status.busy": "2020-11-15T17:17:20.975796Z",
     "iopub.status.idle": "2020-11-15T17:22:44.968517Z",
     "shell.execute_reply": "2020-11-15T17:22:44.969250Z"
    },
    "papermill": {
     "duration": 324.128615,
     "end_time": "2020-11-15T17:22:44.969447",
     "exception": false,
     "start_time": "2020-11-15T17:17:20.840832",
     "status": "completed"
    },
    "tags": []
   },
   "outputs": [
    {
     "name": "stdout",
     "output_type": "stream",
     "text": [
      "0.978452380952381\n"
     ]
    }
   ],
   "source": [
    "X = train_df.drop(columns=[\"label\"]).values / 255.\n",
    "y = train_df[\"label\"]\n",
    "X_test = test_df.values / 255.\n",
    "\n",
    "X_train, X_validate, y_train, y_validate = train_test_split(X, y, test_size=0.2)\n",
    "\n",
    "model = SVC(kernel=\"rbf\")\n",
    "\n",
    "model.fit(X_train, y_train)\n",
    "preds_validate = model.predict(X_validate)\n",
    "\n",
    "print(accuracy_score(preds_validate, y_validate))\n"
   ]
  },
  {
   "cell_type": "code",
   "execution_count": 23,
   "metadata": {
    "execution": {
     "iopub.execute_input": "2020-11-15T17:22:45.074154Z",
     "iopub.status.busy": "2020-11-15T17:22:45.072978Z",
     "iopub.status.idle": "2020-11-15T17:28:04.137810Z",
     "shell.execute_reply": "2020-11-15T17:28:04.136928Z"
    },
    "papermill": {
     "duration": 319.119306,
     "end_time": "2020-11-15T17:28:04.137951",
     "exception": false,
     "start_time": "2020-11-15T17:22:45.018645",
     "status": "completed"
    },
    "tags": []
   },
   "outputs": [],
   "source": [
    "# later we will descuss the kernel trick\n",
    "# now let's submit\n",
    "preds_test = model.predict(X_test)\n",
    "submission[\"Label\"] = preds_test\n",
    "\n",
    "submission.to_csv(\"results2.csv\", index=False)"
   ]
  },
  {
   "cell_type": "code",
   "execution_count": null,
   "metadata": {
    "papermill": {
     "duration": 0.048033,
     "end_time": "2020-11-15T17:28:04.234408",
     "exception": false,
     "start_time": "2020-11-15T17:28:04.186375",
     "status": "completed"
    },
    "tags": []
   },
   "outputs": [],
   "source": []
  }
 ],
 "metadata": {
  "kernelspec": {
   "display_name": "Python 3",
   "language": "python",
   "name": "python3"
  },
  "language_info": {
   "codemirror_mode": {
    "name": "ipython",
    "version": 3
   },
   "file_extension": ".py",
   "mimetype": "text/x-python",
   "name": "python",
   "nbconvert_exporter": "python",
   "pygments_lexer": "ipython3",
   "version": "3.7.6"
  },
  "papermill": {
   "duration": 764.632729,
   "end_time": "2020-11-15T17:28:04.390658",
   "environment_variables": {},
   "exception": null,
   "input_path": "__notebook__.ipynb",
   "output_path": "__notebook__.ipynb",
   "parameters": {},
   "start_time": "2020-11-15T17:15:19.757929",
   "version": "2.1.0"
  }
 },
 "nbformat": 4,
 "nbformat_minor": 4
}
