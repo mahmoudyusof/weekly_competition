{
 "cells": [
  {
   "cell_type": "markdown",
   "metadata": {},
   "source": [
    "# Machine learning for Classification problems\n",
    "First of all let's start with some definitions and terminology.  \n",
    "- What is machine learning?\n",
    "- What are the types of machine learning problems?\n",
    "- When to use machine learning?\n",
    "- Logistic Regression for binary classification.\n",
    "- Logistic Regression for multiclass classification."
   ]
  },
  {
   "cell_type": "markdown",
   "metadata": {},
   "source": [
    "## What is Machine learning\n",
    "Machine learning is the use and development of computer systems that are able to learn and adapt without following explicit instructions, by using algorithms and statistical models to analyse and draw inferences from patterns in data.  \n",
    "This essentially means that the inputs of a machine learning system are data and results, and the outputs are rules. unlike classical programming where the inputs are data and rules, and the outputs are results."
   ]
  },
  {
   "cell_type": "markdown",
   "metadata": {},
   "source": [
    "## Types of machine learning problems\n",
    "- Supervised learning\n",
    "    - Classification\n",
    "    - Regression\n",
    "    - ...\n",
    "- Unsupervised learning\n",
    "    - Clustering\n",
    "    - ...\n",
    "    \n",
    "### Supervised learning\n",
    "Supervised learning is a type of machine learning algorithms that is used when you have both the data and the target output and your goal is to learn the correlation between the data and the target output.  \n",
    "One example is Classification which is going to be this notebook's example. You will be given 28 * 28 pixel data for a hand written digit from 0 to 9 and the goal is to know only from the pixel data what digit the data represents. So you should classify the data, hence the name.\n",
    "\n",
    "### Unsupervised learning\n",
    "Unsupervised learning algorithms are used when you don't have the target output for the training data. \n",
    "One example for clustering is when you have data of your ecommerce website users and you want to figure out how may sigments of users exists and what are there interests. In this case you're going to use the user features to cluster similar users together, however, notice that you don't know the number of clusters nor the names of the clusters."
   ]
  },
  {
   "cell_type": "markdown",
   "metadata": {},
   "source": [
    "## When to use machine learning\n",
    "Machine learning should be use only if necessary, and you know that from the business problem itself. A common mistake is that some engineers try to enforce a machine learning solution to a problem that doesn't need it. Make sure you understand the business problem carefully and see if machine learning could solve it or not.  \n",
    "\n",
    "This notebook, as you might guess, doesn't actually solve much of a business problem, however, it is a good practice for machine learning beginners, it is called \"Hello world of machine learning\"."
   ]
  },
  {
   "cell_type": "code",
   "execution_count": 1,
   "metadata": {},
   "outputs": [
    {
     "data": {
      "text/html": [
       "<div>\n",
       "<style scoped>\n",
       "    .dataframe tbody tr th:only-of-type {\n",
       "        vertical-align: middle;\n",
       "    }\n",
       "\n",
       "    .dataframe tbody tr th {\n",
       "        vertical-align: top;\n",
       "    }\n",
       "\n",
       "    .dataframe thead th {\n",
       "        text-align: right;\n",
       "    }\n",
       "</style>\n",
       "<table border=\"1\" class=\"dataframe\">\n",
       "  <thead>\n",
       "    <tr style=\"text-align: right;\">\n",
       "      <th></th>\n",
       "      <th>label</th>\n",
       "      <th>pixel0</th>\n",
       "      <th>pixel1</th>\n",
       "      <th>pixel2</th>\n",
       "      <th>pixel3</th>\n",
       "      <th>pixel4</th>\n",
       "      <th>pixel5</th>\n",
       "      <th>pixel6</th>\n",
       "      <th>pixel7</th>\n",
       "      <th>pixel8</th>\n",
       "      <th>...</th>\n",
       "      <th>pixel774</th>\n",
       "      <th>pixel775</th>\n",
       "      <th>pixel776</th>\n",
       "      <th>pixel777</th>\n",
       "      <th>pixel778</th>\n",
       "      <th>pixel779</th>\n",
       "      <th>pixel780</th>\n",
       "      <th>pixel781</th>\n",
       "      <th>pixel782</th>\n",
       "      <th>pixel783</th>\n",
       "    </tr>\n",
       "  </thead>\n",
       "  <tbody>\n",
       "    <tr>\n",
       "      <th>0</th>\n",
       "      <td>1</td>\n",
       "      <td>0</td>\n",
       "      <td>0</td>\n",
       "      <td>0</td>\n",
       "      <td>0</td>\n",
       "      <td>0</td>\n",
       "      <td>0</td>\n",
       "      <td>0</td>\n",
       "      <td>0</td>\n",
       "      <td>0</td>\n",
       "      <td>...</td>\n",
       "      <td>0</td>\n",
       "      <td>0</td>\n",
       "      <td>0</td>\n",
       "      <td>0</td>\n",
       "      <td>0</td>\n",
       "      <td>0</td>\n",
       "      <td>0</td>\n",
       "      <td>0</td>\n",
       "      <td>0</td>\n",
       "      <td>0</td>\n",
       "    </tr>\n",
       "    <tr>\n",
       "      <th>1</th>\n",
       "      <td>0</td>\n",
       "      <td>0</td>\n",
       "      <td>0</td>\n",
       "      <td>0</td>\n",
       "      <td>0</td>\n",
       "      <td>0</td>\n",
       "      <td>0</td>\n",
       "      <td>0</td>\n",
       "      <td>0</td>\n",
       "      <td>0</td>\n",
       "      <td>...</td>\n",
       "      <td>0</td>\n",
       "      <td>0</td>\n",
       "      <td>0</td>\n",
       "      <td>0</td>\n",
       "      <td>0</td>\n",
       "      <td>0</td>\n",
       "      <td>0</td>\n",
       "      <td>0</td>\n",
       "      <td>0</td>\n",
       "      <td>0</td>\n",
       "    </tr>\n",
       "    <tr>\n",
       "      <th>2</th>\n",
       "      <td>1</td>\n",
       "      <td>0</td>\n",
       "      <td>0</td>\n",
       "      <td>0</td>\n",
       "      <td>0</td>\n",
       "      <td>0</td>\n",
       "      <td>0</td>\n",
       "      <td>0</td>\n",
       "      <td>0</td>\n",
       "      <td>0</td>\n",
       "      <td>...</td>\n",
       "      <td>0</td>\n",
       "      <td>0</td>\n",
       "      <td>0</td>\n",
       "      <td>0</td>\n",
       "      <td>0</td>\n",
       "      <td>0</td>\n",
       "      <td>0</td>\n",
       "      <td>0</td>\n",
       "      <td>0</td>\n",
       "      <td>0</td>\n",
       "    </tr>\n",
       "    <tr>\n",
       "      <th>3</th>\n",
       "      <td>4</td>\n",
       "      <td>0</td>\n",
       "      <td>0</td>\n",
       "      <td>0</td>\n",
       "      <td>0</td>\n",
       "      <td>0</td>\n",
       "      <td>0</td>\n",
       "      <td>0</td>\n",
       "      <td>0</td>\n",
       "      <td>0</td>\n",
       "      <td>...</td>\n",
       "      <td>0</td>\n",
       "      <td>0</td>\n",
       "      <td>0</td>\n",
       "      <td>0</td>\n",
       "      <td>0</td>\n",
       "      <td>0</td>\n",
       "      <td>0</td>\n",
       "      <td>0</td>\n",
       "      <td>0</td>\n",
       "      <td>0</td>\n",
       "    </tr>\n",
       "    <tr>\n",
       "      <th>4</th>\n",
       "      <td>0</td>\n",
       "      <td>0</td>\n",
       "      <td>0</td>\n",
       "      <td>0</td>\n",
       "      <td>0</td>\n",
       "      <td>0</td>\n",
       "      <td>0</td>\n",
       "      <td>0</td>\n",
       "      <td>0</td>\n",
       "      <td>0</td>\n",
       "      <td>...</td>\n",
       "      <td>0</td>\n",
       "      <td>0</td>\n",
       "      <td>0</td>\n",
       "      <td>0</td>\n",
       "      <td>0</td>\n",
       "      <td>0</td>\n",
       "      <td>0</td>\n",
       "      <td>0</td>\n",
       "      <td>0</td>\n",
       "      <td>0</td>\n",
       "    </tr>\n",
       "  </tbody>\n",
       "</table>\n",
       "<p>5 rows × 785 columns</p>\n",
       "</div>"
      ],
      "text/plain": [
       "   label  pixel0  pixel1  pixel2  pixel3  pixel4  pixel5  pixel6  pixel7  \\\n",
       "0      1       0       0       0       0       0       0       0       0   \n",
       "1      0       0       0       0       0       0       0       0       0   \n",
       "2      1       0       0       0       0       0       0       0       0   \n",
       "3      4       0       0       0       0       0       0       0       0   \n",
       "4      0       0       0       0       0       0       0       0       0   \n",
       "\n",
       "   pixel8  ...  pixel774  pixel775  pixel776  pixel777  pixel778  pixel779  \\\n",
       "0       0  ...         0         0         0         0         0         0   \n",
       "1       0  ...         0         0         0         0         0         0   \n",
       "2       0  ...         0         0         0         0         0         0   \n",
       "3       0  ...         0         0         0         0         0         0   \n",
       "4       0  ...         0         0         0         0         0         0   \n",
       "\n",
       "   pixel780  pixel781  pixel782  pixel783  \n",
       "0         0         0         0         0  \n",
       "1         0         0         0         0  \n",
       "2         0         0         0         0  \n",
       "3         0         0         0         0  \n",
       "4         0         0         0         0  \n",
       "\n",
       "[5 rows x 785 columns]"
      ]
     },
     "execution_count": 1,
     "metadata": {},
     "output_type": "execute_result"
    }
   ],
   "source": [
    "# Before we dive into LogisticRegression, we need to take a look at the data\n",
    "import pandas as pd\n",
    "import numpy as np\n",
    "import matplotlib.pyplot as plt\n",
    "\n",
    "train_df = pd.read_csv(\"./train.csv\")\n",
    "\n",
    "train_df.head()"
   ]
  },
  {
   "cell_type": "markdown",
   "metadata": {},
   "source": [
    "As you can see, there is a label column in the training dataframe which is the target output and you have pixel values from pixel0 all the way to pixel783 which is basically a flattened 28 * 28 image. each pixel has a value between 0 and 255, 0 being black and 255 being white.  \n",
    "Let's take a look at some of these images"
   ]
  },
  {
   "cell_type": "code",
   "execution_count": 2,
   "metadata": {},
   "outputs": [],
   "source": [
    "def show_training_example(df, train=True):\n",
    "    index = np.random.randint(len(df))\n",
    "    example = df.iloc[index]\n",
    "    if train:\n",
    "        label = example[0]\n",
    "        img = example[1:].values.reshape((28, 28))\n",
    "    else:\n",
    "        img = example.values.reshape((28, 28))\n",
    "        label = \"Unknown\"\n",
    "    plt.imshow(img, cmap=\"gray\")\n",
    "    plt.title(label)\n",
    "    plt.show()"
   ]
  },
  {
   "cell_type": "code",
   "execution_count": 3,
   "metadata": {},
   "outputs": [
    {
     "data": {
      "image/png": "[encoded data removed]",
      "text/plain": [
       "<Figure size 432x288 with 1 Axes>"
      ]
     },
     "metadata": {
      "needs_background": "light"
     },
     "output_type": "display_data"
    }
   ],
   "source": [
    "show_training_example(train_df)"
   ]
  },
  {
   "cell_type": "markdown",
   "metadata": {},
   "source": [
    "The reason why the data is provided as a flattened array instead of an image is that almost all machine learning algorithms require a flat array (if we exclude deep learning)."
   ]
  },
  {
   "cell_type": "code",
   "execution_count": 4,
   "metadata": {},
   "outputs": [
    {
     "data": {
      "image/png": "[encoded data removed]",
      "text/plain": [
       "<Figure size 432x288 with 1 Axes>"
      ]
     },
     "metadata": {
      "needs_background": "light"
     },
     "output_type": "display_data"
    },
    {
     "name": "stdout",
     "output_type": "stream",
     "text": [
      "8816\n"
     ]
    }
   ],
   "source": [
    "# Now we are going to get images of only zeros and ones to do binar classification\n",
    "binary_df = train_df.loc[train_df['label'] < 2]\n",
    "show_training_example(binary_df)\n",
    "print(len(binary_df))"
   ]
  },
  {
   "cell_type": "markdown",
   "metadata": {},
   "source": [
    "## Logistic Regression\n",
    "\n",
    "> **Note** some basic linear algebra ahead\n",
    "\n",
    "Let's assume the input features make a vector $X$ where the dimension of $X$ is $(n, 1)$ where $n$ is the number of features.  \n",
    "Right now we have only one output which takes values 0 or 1 let's call it the hypothesis $h$ of shape $(c, 1)$ where $c$ the number of classes (one in this case). we need some tranformation matrix that takes us from $X$ to $O$, we will call this matrix the weights matrix $W$ where $W$ is of shape $(n, c)$.  \n",
    "Our hypothesis $h = X \\odot W$ however there are two problems with this hypothesis:\n",
    "- It always passes through the origin\n",
    "- It outputs values from $-\\infty$ to $\\infty$ and we need numbers between 0 and 1\n",
    "\n",
    "to solve the first problem we add the bias vector $b$ of shape $(1, 1)$ per example  \n",
    "To solve the second we use the logistic sigmoid function which takes the real number line and squeezes it between 0 and 1.  \n",
    "$$ h = \\sigma(X \\odot W + b) $$\n",
    "Where\n",
    "$$ \\sigma(z) = \\frac{1}{1+e^{-z}}$$"
   ]
  },
  {
   "cell_type": "code",
   "execution_count": 5,
   "metadata": {},
   "outputs": [],
   "source": [
    "def sigmoid(z):\n",
    "    return 1. / (1 + np.exp(-z))\n",
    "\n",
    "def hypothesis(X, W, b):\n",
    "    return sigmoid(np.dot(X, W) + b)"
   ]
  },
  {
   "cell_type": "markdown",
   "metadata": {},
   "source": [
    "What the hypothesis represents is the probability of the data example being of class 1, however, if we use it as is it will give random results simply because $W$ and $b$ are randomly initialized.  \n",
    "We need a way to iteratively improve the values of $W$ and $b$ so that they would describe the data better.  \n",
    "To do so we need to know how bad the current values are, and this is measured using the cost function."
   ]
  },
  {
   "cell_type": "markdown",
   "metadata": {},
   "source": [
    "We will write the loss function for one example and then we will write the general cost function and then explain both.\n",
    "- Loss function\n",
    "$$ l = - y\\log(h(x)) - (1 - y)\\log(1 - h(x)) $$\n",
    "where $x$ is the feature vector for one example and $y$ is the target label.  \n",
    "\n",
    "- Cost function over all examples\n",
    "$$ L = \\frac{1}{m}\\sum_{i=1}^m - y_i\\log(h(x_i)) - (1 - y_i)\\log(1 - h(x_i)) $$\n",
    "So the cost function is simply the mean of the loss over all training examples.  \n",
    "\n",
    "Now let's see why this works.  \n",
    "When $y_i == 1$ and $h(x_i) \\simeq 0$ this means we got it wrong, this will cause the second term of the equation to equal 0 however the first term is goint to be $\\log(~0)$ which is going to be a very big negative number.  \n",
    "When $y_i == 1$ and $h(x_i) \\simeq 1$ this means we got it right, this will cause the second term of the equation to equal 0 however the first term is goint to be $\\log(~1)$ which is going to be a very small negative number.  \n",
    "\n",
    "Now this proves that the Loss function we wrote earlier is a good indicator for how bad the model is which means we need to run some sort of optimization algorithm on this function to minimize it with respect to $W$ and $b$."
   ]
  },
  {
   "cell_type": "code",
   "execution_count": 6,
   "metadata": {},
   "outputs": [],
   "source": [
    "def cost(h, y):\n",
    "    return (-y * np.log(h + 0.001) - (1 - y) * np.log(1 - h + 0.001)).mean()\n",
    "\n",
    "## the small number in the log is to prevent log(0) which would overflow"
   ]
  },
  {
   "cell_type": "markdown",
   "metadata": {},
   "source": [
    "### Gradient Descent\n",
    "![Gradient Descent](https://cdn-images-1.medium.com/max/600/1*iNPHcCxIvcm7RwkRaMTx1g.jpeg)  \n",
    "\n",
    "From vector analysis we know that the gradient of a function is the direction at which the function increases the most denoted by the symbol $\\nabla$.  \n",
    "If we can calculate the gradient of the cost function $\\nabla L$ at any point and move in the opposite direction updating the weights and bias this is going to slowly decrease the loss until we reach a local minimum.  \n",
    "Update equations\n",
    "$$ W := W - \\alpha * \\nabla_{W} L $$\n",
    "$$ b := b - \\alpha * \\nabla_{b} L $$\n",
    "$ \\nabla_{W} L = X^T \\odot (h - y) $  \n",
    "$ \\nabla_{b} L = (h - y) $"
   ]
  },
  {
   "cell_type": "code",
   "execution_count": 7,
   "metadata": {},
   "outputs": [
    {
     "name": "stdout",
     "output_type": "stream",
     "text": [
      "(7052, 784)\n",
      "(7052,)\n",
      "(1764, 784)\n",
      "(1764,)\n"
     ]
    }
   ],
   "source": [
    "# now let's start training\n",
    "from sklearn.model_selection import train_test_split\n",
    "X = binary_df.drop(columns=['label']).values / 255.\n",
    "y = binary_df['label']\n",
    "X_train, X_test, y_train, y_test = train_test_split(X, y, test_size=0.2)\n",
    "print(X_train.shape)\n",
    "print(y_train.shape)\n",
    "print(X_test.shape)\n",
    "print(y_test.shape)"
   ]
  },
  {
   "cell_type": "code",
   "execution_count": 8,
   "metadata": {},
   "outputs": [
    {
     "name": "stdout",
     "output_type": "stream",
     "text": [
      "3.242745329045123\n",
      "0.03916767861642684\n"
     ]
    },
    {
     "name": "stderr",
     "output_type": "stream",
     "text": [
      "<ipython-input-5-fc1c4a264ad5>:2: RuntimeWarning: overflow encountered in exp\n",
      "  return 1. / (1 + np.exp(-z))\n"
     ]
    },
    {
     "name": "stdout",
     "output_type": "stream",
     "text": [
      "0.028391118410526814\n",
      "0.02251299466175317\n",
      "0.02055362017263704\n",
      "0.02055362007152382\n",
      "0.017765025346654858\n",
      "0.017771148380040794\n",
      "0.01664420660258116\n",
      "0.014765459250627272\n",
      "0.013719841014672343\n",
      "0.012989693882474375\n",
      "0.01298911835767417\n",
      "0.01202952597265271\n",
      "0.011477398459352238\n",
      "0.010926517033395478\n",
      "0.00990943394959182\n",
      "0.009357036107781875\n",
      "0.00935566420870319\n",
      "0.009370618126703001\n"
     ]
    }
   ],
   "source": [
    "W = np.random.rand(X_train.shape[1])\n",
    "b = np.random.rand(1)\n",
    "alpha = 0.1\n",
    "epochs = 200\n",
    "costs = []\n",
    "for i in range(epochs):\n",
    "    h = hypothesis(X_train, W, b)\n",
    "    costs.append(cost(h, y_train))\n",
    "    W -= alpha * np.dot(X_train.T, (h - y_train))\n",
    "    b -= alpha * (h - y_train).mean()\n",
    "    if i % 10 == 0:\n",
    "        print(costs[-1])\n",
    "    "
   ]
  },
  {
   "cell_type": "code",
   "execution_count": 9,
   "metadata": {},
   "outputs": [
    {
     "data": {
      "image/png": "[encoded data removed]",
      "text/plain": [
       "<Figure size 432x288 with 1 Axes>"
      ]
     },
     "metadata": {
      "needs_background": "light"
     },
     "output_type": "display_data"
    }
   ],
   "source": [
    "## Now let's see how the loss is decreasing\n",
    "import matplotlib.pyplot as plt\n",
    "plt.plot(list(range(198)), costs[2:])\n",
    "plt.show()"
   ]
  },
  {
   "cell_type": "code",
   "execution_count": 10,
   "metadata": {},
   "outputs": [
    {
     "name": "stderr",
     "output_type": "stream",
     "text": [
      "<ipython-input-5-fc1c4a264ad5>:2: RuntimeWarning: overflow encountered in exp\n",
      "  return 1. / (1 + np.exp(-z))\n"
     ]
    }
   ],
   "source": [
    "from sklearn.metrics import accuracy_score\n",
    "h_test = hypothesis(X_test, W, b)\n",
    "for i in range(h_test.size):\n",
    "    h_test[i] = int(h_test[i] >= 0.5)"
   ]
  },
  {
   "cell_type": "code",
   "execution_count": 11,
   "metadata": {},
   "outputs": [
    {
     "data": {
      "text/plain": [
       "0.9982993197278912"
      ]
     },
     "execution_count": 11,
     "metadata": {},
     "output_type": "execute_result"
    }
   ],
   "source": [
    "accuracy_score(y_test, h_test)"
   ]
  },
  {
   "cell_type": "markdown",
   "metadata": {},
   "source": [
    "As you can see we can now get a model that can classify images of hand written zeros and ones with an accuracy of 99.9% which is not bad at all.  \n",
    "Now we will use [sklearn.linear_model.LogisticRegression](https://scikit-learn.org/stable/modules/generated/sklearn.linear_model.LogisticRegression.html) model"
   ]
  },
  {
   "cell_type": "code",
   "execution_count": 12,
   "metadata": {},
   "outputs": [
    {
     "data": {
      "text/plain": [
       "0.9994331065759637"
      ]
     },
     "execution_count": 12,
     "metadata": {},
     "output_type": "execute_result"
    }
   ],
   "source": [
    "from sklearn.linear_model import LogisticRegression\n",
    "model = LogisticRegression(penalty=\"none\")\n",
    "\n",
    "model.fit(X_train, y_train)\n",
    "\n",
    "accuracy_score(y_test, model.predict(X_test))"
   ]
  },
  {
   "cell_type": "markdown",
   "metadata": {},
   "source": [
    "Outputs are very similar"
   ]
  },
  {
   "cell_type": "markdown",
   "metadata": {},
   "source": [
    "### Multi class classification\n",
    "If you read the docs for the LogisticRegression classifier, it will tell you that for multiclass classification (which means you have more than two classes) it can use the one-vs-Rest method (OvR) if you set the `multi_class` parameter to 'ovr', however, by default it uses crossentropy loss for multiclass problems which is more complex than the simple log loss function.  \n",
    "OvR means that for the mnist problem it would train one classifier that can say whether a digit is 0 or not, and another for ones and another for twos and so on, so it would train 10 models, one for each digit."
   ]
  },
  {
   "cell_type": "code",
   "execution_count": 13,
   "metadata": {},
   "outputs": [],
   "source": [
    "X = train_df.drop(columns=[\"label\"]).values / 255.\n",
    "y = train_df[\"label\"]\n",
    "\n",
    "X_train, X_test, y_train, y_test = train_test_split(X, y, test_size=0.2)"
   ]
  },
  {
   "cell_type": "code",
   "execution_count": 14,
   "metadata": {},
   "outputs": [],
   "source": [
    "# Let's try it\n",
    "\n",
    "## memory consuming code, don't run it\n",
    "## or do, who cares\n",
    "\n",
    "# model = LogisticRegression(penalty=\"none\", multi_class=\"ovr\")\n",
    "# model.fit(scale(X_train), y_train)\n",
    "\n",
    "# accuracy_score(y_test, model.predict(scale(X_test)))"
   ]
  },
  {
   "cell_type": "code",
   "execution_count": 15,
   "metadata": {},
   "outputs": [
    {
     "name": "stderr",
     "output_type": "stream",
     "text": [
      "/home/mahmoud/anaconda3/lib/python3.8/site-packages/sklearn/linear_model/_logistic.py:762: ConvergenceWarning: lbfgs failed to converge (status=1):\n",
      "STOP: TOTAL NO. of ITERATIONS REACHED LIMIT.\n",
      "\n",
      "Increase the number of iterations (max_iter) or scale the data as shown in:\n",
      "    https://scikit-learn.org/stable/modules/preprocessing.html\n",
      "Please also refer to the documentation for alternative solver options:\n",
      "    https://scikit-learn.org/stable/modules/linear_model.html#logistic-regression\n",
      "  n_iter_i = _check_optimize_result(\n"
     ]
    },
    {
     "data": {
      "text/plain": [
       "0.9176190476190477"
      ]
     },
     "execution_count": 15,
     "metadata": {},
     "output_type": "execute_result"
    }
   ],
   "source": [
    "# now let's try crossentropy\n",
    "model = LogisticRegression(penalty=\"none\")\n",
    "model.fit(X_train, y_train)\n",
    "\n",
    "accuracy_score(y_test, model.predict(X_test))"
   ]
  },
  {
   "cell_type": "markdown",
   "metadata": {},
   "source": [
    "just out of curiousity, what is the accuracy score on the training data"
   ]
  },
  {
   "cell_type": "code",
   "execution_count": 16,
   "metadata": {},
   "outputs": [
    {
     "data": {
      "text/plain": [
       "0.9424107142857143"
      ]
     },
     "execution_count": 16,
     "metadata": {},
     "output_type": "execute_result"
    }
   ],
   "source": [
    "accuracy_score(y_train, model.predict(X_train))"
   ]
  },
  {
   "cell_type": "markdown",
   "metadata": {},
   "source": [
    "It seems to be much higher, this happened because the mode memorized the training data and failed to generalize to new data, this phenominon is called overfitting and can be solved using regularization\n",
    "### Regularization\n",
    "regularization is so simple, all we need to do is add a term to the loss function that penalizes the model for having high weights.\n",
    "$$ L = \\frac{1}{m}\\sum_{i=1}^m - y_i\\log(h(x_i)) - (1 - y_i)\\log(1 - h(x_i)) + \\lambda \\|{W}\\|^2 $$  \n",
    "In scikit learn you just need to set the `penalty` parameter to 'l2' which is the default value.  \n",
    "Let's try it."
   ]
  },
  {
   "cell_type": "code",
   "execution_count": 17,
   "metadata": {},
   "outputs": [
    {
     "name": "stdout",
     "output_type": "stream",
     "text": [
      "Training Accuracy: 0.9172321428571428, Testing Accuracy: 0.9086904761904762\n"
     ]
    },
    {
     "name": "stderr",
     "output_type": "stream",
     "text": [
      "/home/mahmoud/anaconda3/lib/python3.8/site-packages/sklearn/linear_model/_logistic.py:762: ConvergenceWarning: lbfgs failed to converge (status=1):\n",
      "STOP: TOTAL NO. of ITERATIONS REACHED LIMIT.\n",
      "\n",
      "Increase the number of iterations (max_iter) or scale the data as shown in:\n",
      "    https://scikit-learn.org/stable/modules/preprocessing.html\n",
      "Please also refer to the documentation for alternative solver options:\n",
      "    https://scikit-learn.org/stable/modules/linear_model.html#logistic-regression\n",
      "  n_iter_i = _check_optimize_result(\n"
     ]
    }
   ],
   "source": [
    "model = LogisticRegression(penalty='l2', C=0.01)\n",
    "model.fit(X_train, y_train)\n",
    "\n",
    "train_score = accuracy_score(y_train, model.predict(X_train))\n",
    "test_score = accuracy_score(y_test, model.predict(X_test))\n",
    "\n",
    "print(\"Training Accuracy: {}, Testing Accuracy: {}\".format(train_score, test_score))"
   ]
  },
  {
   "cell_type": "markdown",
   "metadata": {},
   "source": [
    "If you look at the documentation you will see that the smaller the `C` parameter the stronger the regularization, which means it is the inverse of the $\\lambda$ in the equation. try different values of `C` and see which results in the least overfitting"
   ]
  },
  {
   "cell_type": "markdown",
   "metadata": {},
   "source": [
    "## Some cool plots\n",
    "We are now going to build a dummy dataset of two features so we can see it and see the evolution of the decision boundary as it trains"
   ]
  },
  {
   "cell_type": "code",
   "execution_count": 18,
   "metadata": {},
   "outputs": [
    {
     "data": {
      "image/png": "[encoded data removed]",
      "text/plain": [
       "<Figure size 432x288 with 1 Axes>"
      ]
     },
     "metadata": {
      "needs_background": "light"
     },
     "output_type": "display_data"
    },
    {
     "name": "stderr",
     "output_type": "stream",
     "text": [
      "<ipython-input-5-fc1c4a264ad5>:2: RuntimeWarning: overflow encountered in exp\n",
      "  return 1. / (1 + np.exp(-z))\n"
     ]
    },
    {
     "data": {
      "image/png": "[encoded data removed]",
      "text/plain": [
       "<Figure size 432x288 with 1 Axes>"
      ]
     },
     "metadata": {
      "needs_background": "light"
     },
     "output_type": "display_data"
    },
    {
     "data": {
      "image/png": "[encoded data removed]",
      "text/plain": [
       "<Figure size 432x288 with 1 Axes>"
      ]
     },
     "metadata": {
      "needs_background": "light"
     },
     "output_type": "display_data"
    },
    {
     "data": {
      "image/png": "[encoded data removed]",
      "text/plain": [
       "<Figure size 432x288 with 1 Axes>"
      ]
     },
     "metadata": {
      "needs_background": "light"
     },
     "output_type": "display_data"
    }
   ],
   "source": [
    "from sklearn.datasets import make_blobs\n",
    "# generate dataset\n",
    "X, y = make_blobs(n_samples=1000, centers=2, n_features=2, random_state=1, cluster_std=3)\n",
    "# define bounds of the domain\n",
    "min1, max1 = X[:, 0].min()-1, X[:, 0].max()+1\n",
    "min2, max2 = X[:, 1].min()-1, X[:, 1].max()+1\n",
    "# define the x and y scale\n",
    "x1grid = np.arange(min1, max1, 0.1)\n",
    "x2grid = np.arange(min2, max2, 0.1)\n",
    "# create all of the lines and rows of the grid\n",
    "xx, yy = np.meshgrid(x1grid, x2grid)\n",
    "# flatten each grid to a vector\n",
    "r1, r2 = xx.flatten(), yy.flatten()\n",
    "r1, r2 = r1.reshape((len(r1), 1)), r2.reshape((len(r2), 1))\n",
    "# horizontal stack vectors to create x1,x2 input for the model\n",
    "grid = np.hstack((r1,r2))\n",
    "\n",
    "W = np.random.rand(X.shape[1])\n",
    "b = np.random.rand(1)\n",
    "alpha = 0.1\n",
    "epochs = 4\n",
    "\n",
    "colors = [\"#333333\", \"#cccccc\"]\n",
    "\n",
    "for i in range(epochs):\n",
    "    \n",
    "    h = hypothesis(X, W, b)\n",
    "    \n",
    "    yhat = hypothesis(grid, W, b)\n",
    "    zz = yhat.reshape(xx.shape)\n",
    "    # plot the grid of x, y and z values as a surface\n",
    "    plt.contourf(xx, yy, zz, cmap=\"gray\")\n",
    "    # create scatter plot for samples from each class\n",
    "    for class_value in range(2):\n",
    "        # get row indexes for samples with this class\n",
    "        row_ix = np.where(y == class_value)\n",
    "        # create scatter of these samples\n",
    "        plt.scatter(X[row_ix, 0], X[row_ix, 1], c=colors[class_value])\n",
    "    # show the plot\n",
    "    plt.show()\n",
    "    \n",
    "    W -= alpha * np.dot(X.T, (h - y))\n",
    "    b -= alpha * (h - y).mean()\n"
   ]
  },
  {
   "cell_type": "markdown",
   "metadata": {},
   "source": [
    "If you look at the first plot you will notice that the decision boundary completely fails to describe the data, but soon after a couple of iterations it gets much better"
   ]
  },
  {
   "cell_type": "markdown",
   "metadata": {},
   "source": [
    "# The End\n",
    "I hope this was useful, thank you for coming this far and happy learning :D"
   ]
  },
  {
   "cell_type": "code",
   "execution_count": null,
   "metadata": {},
   "outputs": [],
   "source": []
  }
 ],
 "metadata": {
  "kernelspec": {
   "display_name": "Python 3",
   "language": "python",
   "name": "python3"
  },
  "language_info": {
   "codemirror_mode": {
    "name": "ipython",
    "version": 3
   },
   "file_extension": ".py",
   "mimetype": "text/x-python",
   "name": "python",
   "nbconvert_exporter": "python",
   "pygments_lexer": "ipython3",
   "version": "3.8.3"
  }
 },
 "nbformat": 4,
 "nbformat_minor": 4
}
